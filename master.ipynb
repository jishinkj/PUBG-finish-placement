{
 "cells": [
  {
   "cell_type": "markdown",
   "metadata": {},
   "source": [
    "We are provided with a large number of anonymized PUBG game stats, formatted so that each row contains one player's post-game stats. The data comes from matches of all types: solos, duos, squads, and custom; there is no guarantee of there being 100 players per match, nor at most 4 player per group.\n",
    "\n",
    "we must create a model which predicts players' finishing placement based on their final stats, on a scale from 1 (first place) to 0 (last place).\n",
    "\n",
    "## Importing Libraries"
   ]
  },
  {
   "cell_type": "code",
   "execution_count": null,
   "metadata": {},
   "outputs": [],
   "source": [
    "import numpy as np \n",
    "import pandas as pd "
   ]
  },
  {
   "cell_type": "markdown",
   "metadata": {},
   "source": [
    "### Presetting the datatypes\n",
    "\n",
    "Python automatically reads the data type, which causes a lot of memory wastage. So if we know the datatype in advance, we xan set it up and save memory. "
   ]
  },
  {
   "cell_type": "code",
   "execution_count": null,
   "metadata": {},
   "outputs": [],
   "source": [
    "train_dtypes = {\n",
    "        'Id'                : 'object',\n",
    "        'groupId'           : 'object',\n",
    "        'matchId'           : 'object',\n",
    "        'assists'           : 'int8',\n",
    "        'boosts'            : 'int8',\n",
    "        'damageDealt'       : 'float16',\n",
    "        'DBNOs'             : 'int8',\n",
    "        'headshotKills'     : 'int8', \n",
    "        'heals'             : 'int8',    \n",
    "        'killPlace'         : 'int8',    \n",
    "        'killPoints'        : 'int16',    \n",
    "        'kills'             : 'int8',    \n",
    "        'killStreaks'       : 'int8',    \n",
    "        'longestKill'       : 'float16',\n",
    "        'matchDuration'     : 'int16',\n",
    "        'matchType'         : 'object',\n",
    "        'maxPlace'          : 'int8',    \n",
    "        'numGroups'         : 'int8',\n",
    "        'rankPoints'        : 'int16',\n",
    "        'revives'           : 'int8',    \n",
    "        'rideDistance'      : 'float16',    \n",
    "        'roadKills'         : 'int8',    \n",
    "        'swimDistance'      : 'float16',    \n",
    "        'teamKills'         : 'int8',    \n",
    "        'vehicleDestroys'   : 'int8',    \n",
    "        'walkDistance'      : 'float16',    \n",
    "        'weaponsAcquired'   : 'int8',    \n",
    "        'winPoints'         : 'int8', \n",
    "        'winPlacePerc'      : 'float16' \n",
    "}\n",
    "\n",
    "test_dtypes = {\n",
    "        'Id'                : 'object',\n",
    "        'groupId'           : 'object',\n",
    "        'matchId'           : 'object',\n",
    "        'assists'           : 'int8',\n",
    "        'boosts'            : 'int8',\n",
    "        'damageDealt'       : 'float16',\n",
    "        'DBNOs'             : 'int8',\n",
    "        'headshotKills'     : 'int8', \n",
    "        'heals'             : 'int8',    \n",
    "        'killPlace'         : 'int8',    \n",
    "        'killPoints'        : 'int16',    \n",
    "        'kills'             : 'int8',    \n",
    "        'killStreaks'       : 'int8',    \n",
    "        'longestKill'       : 'float16',\n",
    "        'matchDuration'     : 'int16',\n",
    "        'matchType'         : 'object',\n",
    "        'maxPlace'          : 'int8',    \n",
    "        'numGroups'         : 'int8',\n",
    "        'rankPoints'        : 'int16',\n",
    "        'revives'           : 'int8',    \n",
    "        'rideDistance'      : 'float16',    \n",
    "        'roadKills'         : 'int8',    \n",
    "        'swimDistance'      : 'float16',    \n",
    "        'teamKills'         : 'int8',    \n",
    "        'vehicleDestroys'   : 'int8',    \n",
    "        'walkDistance'      : 'float16',    \n",
    "        'weaponsAcquired'   : 'int8',    \n",
    "        'winPoints'         : 'int8', \n",
    "}"
   ]
  },
  {
   "cell_type": "markdown",
   "metadata": {},
   "source": [
    "Normally, Python would've read all these interger datatypes as int64 and wasted a lot of memory. By presetting the datatypes, we can save 65% to 70% of the memory. "
   ]
  },
  {
   "cell_type": "code",
   "execution_count": null,
   "metadata": {},
   "outputs": [],
   "source": [
    "train = pd.read_csv('../input/train_V2.csv', dtype = train_dtypes)\n",
    "test = pd.read_csv('../input/test_V2.csv', dtype = test_dtypes)"
   ]
  },
  {
   "cell_type": "markdown",
   "metadata": {},
   "source": [
    "Save the `Id` column of test dataset for the submission file."
   ]
  },
  {
   "cell_type": "code",
   "execution_count": null,
   "metadata": {},
   "outputs": [],
   "source": [
    "test_df_ID = test['Id']"
   ]
  },
  {
   "cell_type": "markdown",
   "metadata": {},
   "source": [
    "### Illegal Match\n",
    "There is one particular player with a 'winPlacePerc' of NaN which was because that particular match had only one player. We will delete this row from our dataset.\n",
    "\n",
    "Check row with NaN value"
   ]
  },
  {
   "cell_type": "code",
   "execution_count": null,
   "metadata": {},
   "outputs": [],
   "source": [
    "train[train['winPlacePerc'].isnull()]\n",
    "\n",
    "# Drop row with NaN 'winPlacePerc' value\n",
    "train.drop(2744604, inplace=True)\n",
    "\n",
    "# The row at index 2744604 will be gone\n",
    "train[train['winPlacePerc'].isnull()]"
   ]
  },
  {
   "cell_type": "markdown",
   "metadata": {},
   "source": [
    "### Concat train and test"
   ]
  },
  {
   "cell_type": "code",
   "execution_count": null,
   "metadata": {},
   "outputs": [],
   "source": [
    "y = train['winPlacePerc']\n",
    "train.drop(['winPlacePerc'], axis = 1, inplace = True)\n",
    "df = pd.concat([train,test], axis = 0)\n",
    "\n",
    "#%%\n",
    "# save the len of train and test  (number of rows)\n",
    "len_train = train.shape[0]\n",
    "#len_test = test.shape[0]\n",
    "\n"
   ]
  },
  {
   "cell_type": "markdown",
   "metadata": {},
   "source": [
    "### Delete train and test dataframes to save memory and then run garbage collect logic"
   ]
  },
  {
   "cell_type": "code",
   "execution_count": null,
   "metadata": {},
   "outputs": [],
   "source": [
    "import gc\n",
    "del train, test\n",
    "gc.collect()"
   ]
  },
  {
   "cell_type": "markdown",
   "metadata": {},
   "source": [
    "# Feature Engineering"
   ]
  },
  {
   "cell_type": "code",
   "execution_count": null,
   "metadata": {},
   "outputs": [],
   "source": [
    "# totalFeatures\n",
    "df['totalDistance'] = df['rideDistance'] + df['walkDistance'] + df['swimDistance']\n",
    "\n",
    "# killsWithoutMoving\n",
    "#df['killsWithoutMoving'] = ((df['kills'] > 0) & (df['totalDistance'] == 0))\n",
    "\n",
    "# headshot_rate\n",
    "df['headshot_rate'] = df['headshotKills'] + df['kills']\n",
    "df['headshot_rate'] = df['headshotKills'].fillna(0) # check number of missing values before imputing\n",
    "\n",
    "# healsandboosts\n",
    "df['healsandboosts'] = df['heals'] + df['boosts']\n",
    "\n",
    "# playersJoined\n",
    "df['playersJoined'] = df.groupby('matchId')['matchId'].transform('count')\n",
    "\n",
    "#%%\n",
    "def calc_killsWithoutMoving(x,y):\n",
    "        if x > 0 & int(y) == 0:\n",
    "                return 1\n",
    "        else :\n",
    "                return 0\n",
    "\n",
    "df['killsWithoutMoving'] = df[['kills','totalDistance']].apply(lambda x: calc_killsWithoutMoving(*x), axis=1)"
   ]
  },
  {
   "cell_type": "code",
   "execution_count": null,
   "metadata": {},
   "outputs": [],
   "source": [
    "#%% Categorical Variables\n",
    "# Number of different matchTypes \n",
    "#df['matchType'].nunique() \n",
    "\n",
    "# turn groupId and matchId into categorical types\n",
    "df['groupId'] = df['groupId'].astype('category')\n",
    "df['matchId'] = df['matchId'].astype('category')\n",
    "\n",
    "# get category codes for groupId and matchId\n",
    "df['groupId_cat'] = df['groupId'].cat.codes\n",
    "df['matchId_cat'] = df['matchId'].cat.codes\n",
    "\n",
    "df.drop(['groupId','matchId'], axis = 1, inplace = True)\n",
    "# df.drop(columns = ['groupId','matchId'], inplace = True)\n",
    "\n",
    "df.drop(columns = ['Id'], inplace = True)"
   ]
  },
  {
   "cell_type": "markdown",
   "metadata": {},
   "source": [
    "### Label Encode the categorical columns\n",
    "\n",
    "There is only one categorical variable - `matchType`"
   ]
  },
  {
   "cell_type": "code",
   "execution_count": null,
   "metadata": {},
   "outputs": [],
   "source": [
    "df = pd.get_dummies(df, columns = ['matchType'], drop_first = True)"
   ]
  },
  {
   "cell_type": "markdown",
   "metadata": {},
   "source": [
    "### Split train and test df"
   ]
  },
  {
   "cell_type": "code",
   "execution_count": null,
   "metadata": {},
   "outputs": [],
   "source": [
    "train_df = df.iloc[:len_train, :]\n",
    "test_df = df.iloc[len_train:, :]\n",
    "train_df = pd.concat([train_df,y],axis = 1)"
   ]
  },
  {
   "cell_type": "markdown",
   "metadata": {},
   "source": [
    "### Train Test Split on train df"
   ]
  },
  {
   "cell_type": "code",
   "execution_count": null,
   "metadata": {},
   "outputs": [],
   "source": [
    "from sklearn.model_selection import train_test_split\n",
    "\n",
    "X_train, X_test, y_train, y_test = train_test_split(train_df.iloc[:,:-1], y, test_size = 0.2, random_state = 0)"
   ]
  },
  {
   "cell_type": "markdown",
   "metadata": {},
   "source": [
    "## Modeling"
   ]
  },
  {
   "cell_type": "code",
   "execution_count": null,
   "metadata": {},
   "outputs": [],
   "source": [
    "from sklearn.ensemble import RandomForestRegressor\n",
    "\n",
    "rfr = RandomForestRegressor()\n",
    "rfr.fit(X_train,y_train)\n",
    "\n",
    "y_pred = rfr.predict(X_test)"
   ]
  },
  {
   "cell_type": "markdown",
   "metadata": {},
   "source": [
    "### Evaluation Metrics"
   ]
  },
  {
   "cell_type": "code",
   "execution_count": null,
   "metadata": {},
   "outputs": [],
   "source": [
    "# from sklearn.metrics import mean_absolute_error\n",
    "# from sklearn.metrics import mean_squared_log_error\n",
    "# import math\n",
    "\n",
    "# print(\"\\nMAE is\",mean_absolute_error(y_test, y_pred))\n",
    "# print(\"\\nRMSE is\",math.sqrt(mean_squared_log_error(y_test, y_pred)))"
   ]
  },
  {
   "cell_type": "markdown",
   "metadata": {},
   "source": [
    "### Predict on test_df"
   ]
  },
  {
   "cell_type": "code",
   "execution_count": null,
   "metadata": {},
   "outputs": [],
   "source": [
    "submission = np.clip(a = rfr.predict(test_df), a_min = 0.0, a_max = 1.0)"
   ]
  },
  {
   "cell_type": "markdown",
   "metadata": {},
   "source": [
    "### Export to CSV"
   ]
  },
  {
   "cell_type": "code",
   "execution_count": null,
   "metadata": {},
   "outputs": [],
   "source": [
    "submission_df = pd.DataFrame({'Id': test_df_ID, 'winPlacePerc': submission})\n",
    "\n",
    "submission_df.to_csv(\"v5.csv\", index = False, header = True)"
   ]
  }
 ],
 "metadata": {
  "kernelspec": {
   "display_name": "Python 3",
   "language": "python",
   "name": "python3"
  },
  "language_info": {
   "codemirror_mode": {
    "name": "ipython",
    "version": 3
   },
   "file_extension": ".py",
   "mimetype": "text/x-python",
   "name": "python",
   "nbconvert_exporter": "python",
   "pygments_lexer": "ipython3",
   "version": "3.6.5"
  }
 },
 "nbformat": 4,
 "nbformat_minor": 2
}
